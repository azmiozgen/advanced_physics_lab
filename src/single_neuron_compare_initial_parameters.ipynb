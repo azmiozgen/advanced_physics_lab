{
 "cells": [
  {
   "cell_type": "code",
   "execution_count": 6,
   "metadata": {
    "collapsed": true
   },
   "outputs": [],
   "source": [
    "import single_neuron"
   ]
  },
  {
   "cell_type": "code",
   "execution_count": 12,
   "metadata": {
    "collapsed": false
   },
   "outputs": [
    {
     "name": "stdout",
     "output_type": "stream",
     "text": [
      "weight: -0.309523815538, bias: -0.309523815538, output: 0.00766038078154\n",
      "weight: -0.280774314581, bias: -0.280774314581, output: 0.00801370127588\n"
     ]
    }
   ],
   "source": [
    "single_neuron.singleNeuronModelCompare([0.5, 0.5], [0.7, 0.7], costFunction=single_neuron.QuadraticCost())"
   ]
  },
  {
   "cell_type": "code",
   "execution_count": 13,
   "metadata": {
    "collapsed": false
   },
   "outputs": [
    {
     "name": "stdout",
     "output_type": "stream",
     "text": [
      "weight: -0.309523815538, bias: -0.309523815538, output: 0.00766038078154\n",
      "weight: -0.075825438188, bias: -0.075825438188, output: 0.0369716081838\n"
     ]
    }
   ],
   "source": [
    "single_neuron.singleNeuronModelCompare([0.5, 0.5], [2.0, 2.0], costFunction=single_neuron.QuadraticCost())"
   ]
  },
  {
   "cell_type": "code",
   "execution_count": 10,
   "metadata": {
    "collapsed": false
   },
   "outputs": [
    {
     "name": "stdout",
     "output_type": "stream",
     "text": [
      "weight: -0.423155864238, bias: -0.423155864238, output: 0.0220934333704\n",
      "weight: -0.399063969677, bias: -0.399063969677, output: 0.0222336217823\n"
     ]
    }
   ],
   "source": [
    "single_neuron.singleNeuronModelCompare([0.5, 0.5], [0.7, 0.7], costFunction=single_neuron.CrossEntropyCost())"
   ]
  },
  {
   "cell_type": "code",
   "execution_count": 14,
   "metadata": {
    "collapsed": false
   },
   "outputs": [
    {
     "name": "stdout",
     "output_type": "stream",
     "text": [
      "weight: -0.423155864238, bias: -0.423155864238, output: 0.0220934333704\n",
      "weight: -0.350988312487, bias: -0.350988312487, output: 0.0229768087647\n"
     ]
    }
   ],
   "source": [
    "single_neuron.singleNeuronModelCompare([0.5, 0.5], [2.0, 2.0], costFunction=single_neuron.CrossEntropyCost())"
   ]
  }
 ],
 "metadata": {
  "kernelspec": {
   "display_name": "Python 2",
   "language": "python",
   "name": "python2"
  },
  "language_info": {
   "codemirror_mode": {
    "name": "ipython",
    "version": 2
   },
   "file_extension": ".py",
   "mimetype": "text/x-python",
   "name": "python",
   "nbconvert_exporter": "python",
   "pygments_lexer": "ipython2",
   "version": "2.7.9"
  }
 },
 "nbformat": 4,
 "nbformat_minor": 0
}
