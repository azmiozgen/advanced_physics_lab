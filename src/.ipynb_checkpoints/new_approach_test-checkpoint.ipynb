{
 "cells": [
  {
   "cell_type": "code",
   "execution_count": 9,
   "metadata": {
    "collapsed": true
   },
   "outputs": [],
   "source": [
    "import mnist_loader\n",
    "training_data, validation_data, test_data = mnist_loader.load_data_wrapper()\n",
    "import new_approach\n",
    "import time"
   ]
  },
  {
   "cell_type": "code",
   "execution_count": 10,
   "metadata": {
    "collapsed": false,
    "scrolled": true
   },
   "outputs": [
    {
     "name": "stdout",
     "output_type": "stream",
     "text": [
      "Epoch 0 training complete\n",
      "Accuracy on training data: 47125 / 50000\n",
      "Accuracy on evaluation data: 9416 / 10000\n",
      "\n",
      "Epoch 1 training complete\n",
      "Accuracy on training data: 47580 / 50000\n",
      "Accuracy on evaluation data: 9505 / 10000\n",
      "\n",
      "Epoch 2 training complete\n",
      "Accuracy on training data: 47851 / 50000\n",
      "Accuracy on evaluation data: 9510 / 10000\n",
      "\n",
      "Epoch 3 training complete\n",
      "Accuracy on training data: 48093 / 50000\n",
      "Accuracy on evaluation data: 9568 / 10000\n",
      "\n",
      "Epoch 4 training complete\n",
      "Accuracy on training data: 48144 / 50000\n",
      "Accuracy on evaluation data: 9554 / 10000\n",
      "\n",
      "Epoch 5 training complete\n",
      "Accuracy on training data: 48134 / 50000\n",
      "Accuracy on evaluation data: 9560 / 10000\n",
      "\n",
      "Epoch 6 training complete\n",
      "Accuracy on training data: 48120 / 50000\n",
      "Accuracy on evaluation data: 9553 / 10000\n",
      "\n",
      "Epoch 7 training complete\n",
      "Accuracy on training data: 47888 / 50000\n",
      "Accuracy on evaluation data: 9504 / 10000\n",
      "\n",
      "Epoch 8 training complete\n",
      "Accuracy on training data: 48218 / 50000\n",
      "Accuracy on evaluation data: 9556 / 10000\n",
      "\n",
      "Epoch 9 training complete\n",
      "Accuracy on training data: 48044 / 50000\n",
      "Accuracy on evaluation data: 9528 / 10000\n",
      "\n",
      "Epoch 10 training complete\n",
      "Accuracy on training data: 48262 / 50000\n",
      "Accuracy on evaluation data: 9570 / 10000\n",
      "\n",
      "Epoch 11 training complete\n",
      "Accuracy on training data: 48120 / 50000\n",
      "Accuracy on evaluation data: 9556 / 10000\n",
      "\n",
      "Epoch 12 training complete\n",
      "Accuracy on training data: 48097 / 50000\n",
      "Accuracy on evaluation data: 9572 / 10000\n",
      "\n",
      "Epoch 13 training complete\n",
      "Accuracy on training data: 48117 / 50000\n",
      "Accuracy on evaluation data: 9557 / 10000\n",
      "\n",
      "Epoch 14 training complete\n",
      "Accuracy on training data: 48188 / 50000\n",
      "Accuracy on evaluation data: 9555 / 10000\n",
      "\n",
      "Epoch 15 training complete\n",
      "Accuracy on training data: 48392 / 50000\n",
      "Accuracy on evaluation data: 9593 / 10000\n",
      "\n",
      "Epoch 16 training complete\n",
      "Accuracy on training data: 47993 / 50000\n",
      "Accuracy on evaluation data: 9538 / 10000\n",
      "\n",
      "Epoch 17 training complete\n",
      "Accuracy on training data: 48410 / 50000\n",
      "Accuracy on evaluation data: 9586 / 10000\n",
      "\n",
      "Epoch 18 training complete\n",
      "Accuracy on training data: 48313 / 50000\n",
      "Accuracy on evaluation data: 9584 / 10000\n",
      "\n",
      "Epoch 19 training complete\n",
      "Accuracy on training data: 48516 / 50000\n",
      "Accuracy on evaluation data: 9620 / 10000\n",
      "\n",
      "Epoch 20 training complete\n",
      "Accuracy on training data: 48175 / 50000\n",
      "Accuracy on evaluation data: 9552 / 10000\n",
      "\n",
      "Epoch 21 training complete\n",
      "Accuracy on training data: 48107 / 50000\n",
      "Accuracy on evaluation data: 9520 / 10000\n",
      "\n",
      "Epoch 22 training complete\n",
      "Accuracy on training data: 48354 / 50000\n",
      "Accuracy on evaluation data: 9590 / 10000\n",
      "\n",
      "Epoch 23 training complete\n",
      "Accuracy on training data: 48371 / 50000\n",
      "Accuracy on evaluation data: 9568 / 10000\n",
      "\n",
      "Epoch 24 training complete\n",
      "Accuracy on training data: 48348 / 50000\n",
      "Accuracy on evaluation data: 9585 / 10000\n",
      "\n",
      "Epoch 25 training complete\n",
      "Accuracy on training data: 48477 / 50000\n",
      "Accuracy on evaluation data: 9590 / 10000\n",
      "\n",
      "Epoch 26 training complete\n",
      "Accuracy on training data: 48455 / 50000\n",
      "Accuracy on evaluation data: 9599 / 10000\n",
      "\n",
      "Epoch 27 training complete\n",
      "Accuracy on training data: 48606 / 50000\n",
      "Accuracy on evaluation data: 9645 / 10000\n",
      "\n",
      "Epoch 28 training complete\n",
      "Accuracy on training data: 48571 / 50000\n",
      "Accuracy on evaluation data: 9606 / 10000\n",
      "\n",
      "Epoch 29 training complete\n",
      "Accuracy on training data: 48423 / 50000\n",
      "Accuracy on evaluation data: 9602 / 10000\n",
      "\n",
      "1093.47206497\n"
     ]
    }
   ],
   "source": [
    "net1 = new_approach.Network([784, 30, 10], cost=new_approach.CrossEntropyCost)\n",
    "# net.large_weight_initializer()\n",
    "\n",
    "t1 = time.time()\n",
    "eval_cost1, eval_acc1, train_cost1, train_acc1 = \\\n",
    "net1.SGD(training_data, 30, 10, 0.5, dropout=False, lmbda = 5.0, \n",
    "evaluation_data=test_data, monitor_evaluation_cost=False, monitor_evaluation_accuracy=True,\n",
    "monitor_training_cost=False, monitor_training_accuracy=True)\n",
    "print time.time() - t1\n"
   ]
  },
  {
   "cell_type": "code",
   "execution_count": 11,
   "metadata": {
    "collapsed": false,
    "scrolled": true
   },
   "outputs": [
    {
     "name": "stdout",
     "output_type": "stream",
     "text": [
      "Epoch 0 training complete\n",
      "Accuracy on training data: 46123 / 50000\n",
      "Accuracy on evaluation data: 9211 / 10000\n",
      "\n",
      "Epoch 1 training complete\n",
      "Accuracy on training data: 46853 / 50000\n",
      "Accuracy on evaluation data: 9337 / 10000\n",
      "\n",
      "Epoch 2 training complete\n",
      "Accuracy on training data: 47172 / 50000\n",
      "Accuracy on evaluation data: 9387 / 10000\n",
      "\n",
      "Epoch 3 training complete\n",
      "Accuracy on training data: 47575 / 50000\n",
      "Accuracy on evaluation data: 9472 / 10000\n",
      "\n",
      "Epoch 4 training complete\n",
      "Accuracy on training data: 47704 / 50000\n",
      "Accuracy on evaluation data: 9478 / 10000\n",
      "\n",
      "Epoch 5 training complete\n",
      "Accuracy on training data: 47591 / 50000\n",
      "Accuracy on evaluation data: 9443 / 10000\n",
      "\n",
      "Epoch 6 training complete\n",
      "Accuracy on training data: 47833 / 50000\n",
      "Accuracy on evaluation data: 9518 / 10000\n",
      "\n",
      "Epoch 7 training complete\n",
      "Accuracy on training data: 47879 / 50000\n",
      "Accuracy on evaluation data: 9492 / 10000\n",
      "\n",
      "Epoch 8 training complete\n",
      "Accuracy on training data: 47578 / 50000\n",
      "Accuracy on evaluation data: 9469 / 10000\n",
      "\n",
      "Epoch 9 training complete\n",
      "Accuracy on training data: 47791 / 50000\n",
      "Accuracy on evaluation data: 9498 / 10000\n",
      "\n",
      "Epoch 10 training complete\n",
      "Accuracy on training data: 47924 / 50000\n",
      "Accuracy on evaluation data: 9522 / 10000\n",
      "\n",
      "Epoch 11 training complete\n",
      "Accuracy on training data: 47960 / 50000\n",
      "Accuracy on evaluation data: 9525 / 10000\n",
      "\n",
      "Epoch 12 training complete\n",
      "Accuracy on training data: 47819 / 50000\n",
      "Accuracy on evaluation data: 9522 / 10000\n",
      "\n",
      "Epoch 13 training complete\n",
      "Accuracy on training data: 47620 / 50000\n",
      "Accuracy on evaluation data: 9455 / 10000\n",
      "\n",
      "Epoch 14 training complete\n",
      "Accuracy on training data: 48014 / 50000\n",
      "Accuracy on evaluation data: 9537 / 10000\n",
      "\n",
      "Epoch 15 training complete\n",
      "Accuracy on training data: 47995 / 50000\n",
      "Accuracy on evaluation data: 9527 / 10000\n",
      "\n",
      "Epoch 16 training complete\n",
      "Accuracy on training data: 48071 / 50000\n",
      "Accuracy on evaluation data: 9556 / 10000\n",
      "\n",
      "Epoch 17 training complete\n",
      "Accuracy on training data: 47831 / 50000\n",
      "Accuracy on evaluation data: 9473 / 10000\n",
      "\n",
      "Epoch 18 training complete\n",
      "Accuracy on training data: 47791 / 50000\n",
      "Accuracy on evaluation data: 9486 / 10000\n",
      "\n",
      "Epoch 19 training complete\n",
      "Accuracy on training data: 47773 / 50000\n",
      "Accuracy on evaluation data: 9472 / 10000\n",
      "\n",
      "Epoch 20 training complete\n",
      "Accuracy on training data: 48154 / 50000\n",
      "Accuracy on evaluation data: 9536 / 10000\n",
      "\n",
      "Epoch 21 training complete\n",
      "Accuracy on training data: 47872 / 50000\n",
      "Accuracy on evaluation data: 9493 / 10000\n",
      "\n",
      "Epoch 22 training complete\n",
      "Accuracy on training data: 48015 / 50000\n",
      "Accuracy on evaluation data: 9544 / 10000\n",
      "\n",
      "Epoch 23 training complete\n",
      "Accuracy on training data: 48036 / 50000\n",
      "Accuracy on evaluation data: 9508 / 10000\n",
      "\n",
      "Epoch 24 training complete\n",
      "Accuracy on training data: 47759 / 50000\n",
      "Accuracy on evaluation data: 9498 / 10000\n",
      "\n",
      "Epoch 25 training complete\n",
      "Accuracy on training data: 47438 / 50000\n",
      "Accuracy on evaluation data: 9418 / 10000\n",
      "\n",
      "Epoch 26 training complete\n",
      "Accuracy on training data: 48176 / 50000\n",
      "Accuracy on evaluation data: 9564 / 10000\n",
      "\n",
      "Epoch 27 training complete\n",
      "Accuracy on training data: 47854 / 50000\n",
      "Accuracy on evaluation data: 9516 / 10000\n",
      "\n",
      "Epoch 28 training complete\n",
      "Accuracy on training data: 47992 / 50000\n",
      "Accuracy on evaluation data: 9535 / 10000\n",
      "\n",
      "Epoch 29 training complete\n",
      "Accuracy on training data: 48185 / 50000\n",
      "Accuracy on evaluation data: 9542 / 10000\n",
      "\n",
      "1135.84449005\n"
     ]
    }
   ],
   "source": [
    "net2 = new_approach.Network([784, 30, 10], cost=new_approach.CrossEntropyCost)\n",
    "# net.large_weight_initializer()\n",
    "\n",
    "t1 = time.time()\n",
    "eval_cost2, eval_acc2, train_cost2, train_acc2 = \\\n",
    "net2.SGD(training_data, 30, 10, 0.5, dropout=True, lmbda = 5.0, \n",
    "evaluation_data=test_data, monitor_evaluation_cost=False, monitor_evaluation_accuracy=True,\n",
    "monitor_training_cost=False, monitor_training_accuracy=True)\n",
    "print time.time() - t1\n"
   ]
  },
  {
   "cell_type": "code",
   "execution_count": 14,
   "metadata": {
    "collapsed": false
   },
   "outputs": [],
   "source": [
    "import matplotlib.pyplot as plt\n",
    "plt.plot(range(30), eval_acc1, \"b\", label=\"no dropout (1093 sec)\")\n",
    "plt.plot(range(30), eval_acc2, \"r\", label=\"random dropout (1136 sec)\")\n",
    "plt.title(\"Dropout effect on test accuracy (train size=50000, test size=10000, epoch=30)\")\n",
    "plt.xlabel(\"epoch\")\n",
    "plt.ylabel(\"test accuracy\")\n",
    "plt.legend(loc=4)\n",
    "plt.show()"
   ]
  },
  {
   "cell_type": "code",
   "execution_count": 48,
   "metadata": {
    "collapsed": false
   },
   "outputs": [
    {
     "data": {
      "text/plain": [
       "19"
      ]
     },
     "execution_count": 48,
     "metadata": {},
     "output_type": "execute_result"
    }
   ],
   "source": [
    "len(np.where(net1.dropVector[0] == 1)[0])"
   ]
  },
  {
   "cell_type": "code",
   "execution_count": 46,
   "metadata": {
    "collapsed": false
   },
   "outputs": [
    {
     "data": {
      "text/plain": [
       "[array([1, 1, 1, 1, 1, 1, 0, 1, 1, 0, 1, 1, 0, 1, 1, 0, 1, 0, 1, 0, 0, 1, 0,\n",
       "        0, 1, 0, 0, 1, 1, 1])]"
      ]
     },
     "execution_count": 46,
     "metadata": {},
     "output_type": "execute_result"
    }
   ],
   "source": [
    "net1.dropVector"
   ]
  },
  {
   "cell_type": "code",
   "execution_count": 15,
   "metadata": {
    "collapsed": false
   },
   "outputs": [
    {
     "data": {
      "text/plain": [
       "[array([1, 0, 1, 1, 0, 0, 0, 0, 1, 1, 0, 1, 0, 1, 0, 0, 0, 0, 0, 0, 0, 0, 0,\n",
       "        1, 0, 1, 0, 0, 1, 0])]"
      ]
     },
     "execution_count": 15,
     "metadata": {},
     "output_type": "execute_result"
    }
   ],
   "source": [
    "net2.dropVector"
   ]
  },
  {
   "cell_type": "code",
   "execution_count": 20,
   "metadata": {
    "collapsed": false
   },
   "outputs": [
    {
     "data": {
      "text/plain": [
       "3.0"
      ]
     },
     "execution_count": 20,
     "metadata": {},
     "output_type": "execute_result"
    }
   ],
   "source": [
    "float(len(net2.dropVector[0])) / len(np.where(net2.dropVector[0] == 1)[0])"
   ]
  },
  {
   "cell_type": "code",
   "execution_count": 21,
   "metadata": {
    "collapsed": false
   },
   "outputs": [
    {
     "data": {
      "text/plain": [
       "10"
      ]
     },
     "execution_count": 21,
     "metadata": {},
     "output_type": "execute_result"
    }
   ],
   "source": [
    "len(np.where(net2.dropVector[0] == 1)[0])"
   ]
  },
  {
   "cell_type": "code",
   "execution_count": 49,
   "metadata": {
    "collapsed": false
   },
   "outputs": [
    {
     "name": "stdout",
     "output_type": "stream",
     "text": [
      "Stored variables and their in-db values:\n",
      "eval_acc1              -> [9416, 9505, 9510, 9568, 9554, 9560, 9553, 9504, 9\n",
      "train_acc1             -> [47125, 47580, 47851, 48093, 48144, 48134, 48120, \n"
     ]
    }
   ],
   "source": [
    "store"
   ]
  }
 ],
 "metadata": {
  "kernelspec": {
   "display_name": "Python 2",
   "language": "python",
   "name": "python2"
  },
  "language_info": {
   "codemirror_mode": {
    "name": "ipython",
    "version": 2
   },
   "file_extension": ".py",
   "mimetype": "text/x-python",
   "name": "python",
   "nbconvert_exporter": "python",
   "pygments_lexer": "ipython2",
   "version": "2.7.8"
  }
 },
 "nbformat": 4,
 "nbformat_minor": 0
}
