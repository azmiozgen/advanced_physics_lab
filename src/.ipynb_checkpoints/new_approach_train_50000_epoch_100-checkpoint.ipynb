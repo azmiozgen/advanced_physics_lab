{
 "cells": [
  {
   "cell_type": "code",
   "execution_count": 1,
   "metadata": {
    "collapsed": true
   },
   "outputs": [],
   "source": [
    "import mnist_loader\n",
    "training_data, validation_data, test_data = mnist_loader.load_data_wrapper()\n",
    "import new_approach\n",
    "import time\n",
    "import numpy as np"
   ]
  },
  {
   "cell_type": "code",
   "execution_count": null,
   "metadata": {
    "collapsed": false,
    "scrolled": true
   },
   "outputs": [
    {
     "name": "stdout",
     "output_type": "stream",
     "text": [
      "Epoch 0 training complete\n",
      "Accuracy on training data: 763 / 1000\n",
      "Accuracy on evaluation data: 7412 / 10000\n",
      "\n",
      "Epoch 1 training complete\n",
      "Accuracy on training data: 889 / 1000\n",
      "Accuracy on evaluation data: 8515 / 10000\n",
      "\n",
      "Epoch 2 training complete\n",
      "Accuracy on training data: 920 / 1000\n",
      "Accuracy on evaluation data: 8685 / 10000\n",
      "\n",
      "Epoch 3 training complete\n",
      "Accuracy on training data: 948 / 1000\n",
      "Accuracy on evaluation data: 8771 / 10000\n",
      "\n",
      "Epoch 4 training complete\n",
      "Accuracy on training data: 937 / 1000\n",
      "Accuracy on evaluation data: 8651 / 10000\n",
      "\n",
      "Epoch 5 training complete\n",
      "Accuracy on training data: 969 / 1000\n",
      "Accuracy on evaluation data: 8819 / 10000\n",
      "\n",
      "Epoch 6 training complete\n",
      "Accuracy on training data: 974 / 1000\n",
      "Accuracy on evaluation data: 8809 / 10000\n",
      "\n",
      "Epoch 7 training complete\n",
      "Accuracy on training data: 983 / 1000\n",
      "Accuracy on evaluation data: 8886 / 10000\n",
      "\n",
      "Epoch 8 training complete\n",
      "Accuracy on training data: 981 / 1000"
     ]
    }
   ],
   "source": [
    "net1 = new_approach.Network([784, 30, 10], cost=new_approach.CrossEntropyCost)\n",
    "# net.large_weight_initializer()\n",
    "\n",
    "t1 = time.time()\n",
    "eval_cost1, eval_acc1, train_cost1, train_acc1 = \\\n",
    "net1.SGD(training_data[:1000], 100, 10, 0.5, dropout=False, lmbda = 0.0, \n",
    "evaluation_data=test_data, monitor_evaluation_cost=False, monitor_evaluation_accuracy=True,\n",
    "monitor_training_cost=False, monitor_training_accuracy=True)\n",
    "print time.time() - t1\n"
   ]
  },
  {
   "cell_type": "code",
   "execution_count": 91,
   "metadata": {
    "collapsed": false,
    "scrolled": true
   },
   "outputs": [
    {
     "name": "stdout",
     "output_type": "stream",
     "text": [
      "Epoch 0 training complete\n",
      "Accuracy on training data: 45329 / 50000\n",
      "Accuracy on evaluation data: 9041 / 10000\n",
      "\n",
      "Epoch 1 training complete\n",
      "Accuracy on training data: 46963 / 50000\n",
      "Accuracy on evaluation data: 9353 / 10000\n",
      "\n"
     ]
    },
    {
     "ename": "KeyboardInterrupt",
     "evalue": "",
     "output_type": "error",
     "traceback": [
      "\u001b[1;31m---------------------------------------------------------------------------\u001b[0m",
      "\u001b[1;31mKeyboardInterrupt\u001b[0m                         Traceback (most recent call last)",
      "\u001b[1;32m<ipython-input-91-ffe131edea3e>\u001b[0m in \u001b[0;36m<module>\u001b[1;34m()\u001b[0m\n\u001b[0;32m      5\u001b[0m eval_cost2, eval_acc2, train_cost2, train_acc2 = net2.SGD(training_data, 30, 10, 0.5, dropout=True, lmbda = 5.0, \n\u001b[0;32m      6\u001b[0m \u001b[0mevaluation_data\u001b[0m\u001b[1;33m=\u001b[0m\u001b[0mtest_data\u001b[0m\u001b[1;33m,\u001b[0m \u001b[0mmonitor_evaluation_cost\u001b[0m\u001b[1;33m=\u001b[0m\u001b[0mFalse\u001b[0m\u001b[1;33m,\u001b[0m \u001b[0mmonitor_evaluation_accuracy\u001b[0m\u001b[1;33m=\u001b[0m\u001b[0mTrue\u001b[0m\u001b[1;33m,\u001b[0m\u001b[1;33m\u001b[0m\u001b[0m\n\u001b[1;32m----> 7\u001b[1;33m monitor_training_cost=False, monitor_training_accuracy=True)\n\u001b[0m\u001b[0;32m      8\u001b[0m \u001b[1;32mprint\u001b[0m \u001b[0mtime\u001b[0m\u001b[1;33m.\u001b[0m\u001b[0mtime\u001b[0m\u001b[1;33m(\u001b[0m\u001b[1;33m)\u001b[0m \u001b[1;33m-\u001b[0m \u001b[0mt1\u001b[0m\u001b[1;33m\u001b[0m\u001b[0m\n",
      "\u001b[1;32m/home/pollux/Documents/physics/repo/advanced_physics_lab/src/new_approach.py\u001b[0m in \u001b[0;36mSGD\u001b[1;34m(self, training_data, epochs, mini_batch_size, eta, dropout, lmbda, evaluation_data, monitor_evaluation_cost, monitor_evaluation_accuracy, monitor_training_cost, monitor_training_accuracy)\u001b[0m\n\u001b[0;32m    172\u001b[0m                 \u001b[1;32mfor\u001b[0m \u001b[0mmini_batch\u001b[0m \u001b[1;32min\u001b[0m \u001b[0mmini_batches\u001b[0m\u001b[1;33m:\u001b[0m\u001b[1;33m\u001b[0m\u001b[0m\n\u001b[0;32m    173\u001b[0m                     self.update_mini_batch(\n\u001b[1;32m--> 174\u001b[1;33m                         mini_batch, eta, lmbda, len(training_data), dropout=True)\n\u001b[0m\u001b[0;32m    175\u001b[0m \u001b[1;33m\u001b[0m\u001b[0m\n\u001b[0;32m    176\u001b[0m             \u001b[1;32melse\u001b[0m\u001b[1;33m:\u001b[0m\u001b[1;33m\u001b[0m\u001b[0m\n",
      "\u001b[1;32m/home/pollux/Documents/physics/repo/advanced_physics_lab/src/new_approach.py\u001b[0m in \u001b[0;36mupdate_mini_batch\u001b[1;34m(self, mini_batch, eta, lmbda, n, dropout)\u001b[0m\n\u001b[0;32m    224\u001b[0m             \u001b[1;32melse\u001b[0m\u001b[1;33m:\u001b[0m\u001b[1;33m\u001b[0m\u001b[0m\n\u001b[0;32m    225\u001b[0m                 \u001b[0mdelta_nabla_b\u001b[0m\u001b[1;33m,\u001b[0m \u001b[0mdelta_nabla_w\u001b[0m \u001b[1;33m=\u001b[0m \u001b[0mself\u001b[0m\u001b[1;33m.\u001b[0m\u001b[0mbackprop\u001b[0m\u001b[1;33m(\u001b[0m\u001b[0mx\u001b[0m\u001b[1;33m,\u001b[0m \u001b[0my\u001b[0m\u001b[1;33m)\u001b[0m\u001b[1;33m\u001b[0m\u001b[0m\n\u001b[1;32m--> 226\u001b[1;33m             \u001b[0mnabla_b\u001b[0m \u001b[1;33m=\u001b[0m \u001b[1;33m[\u001b[0m\u001b[0mnb\u001b[0m \u001b[1;33m+\u001b[0m \u001b[0mdnb\u001b[0m \u001b[1;32mfor\u001b[0m \u001b[0mnb\u001b[0m\u001b[1;33m,\u001b[0m \u001b[0mdnb\u001b[0m \u001b[1;32min\u001b[0m \u001b[0mzip\u001b[0m\u001b[1;33m(\u001b[0m\u001b[0mnabla_b\u001b[0m\u001b[1;33m,\u001b[0m \u001b[0mdelta_nabla_b\u001b[0m\u001b[1;33m)\u001b[0m\u001b[1;33m]\u001b[0m\u001b[1;33m\u001b[0m\u001b[0m\n\u001b[0m\u001b[0;32m    227\u001b[0m             \u001b[0mnabla_w\u001b[0m \u001b[1;33m=\u001b[0m \u001b[1;33m[\u001b[0m\u001b[0mnw\u001b[0m \u001b[1;33m+\u001b[0m \u001b[0mdnw\u001b[0m \u001b[1;32mfor\u001b[0m \u001b[0mnw\u001b[0m\u001b[1;33m,\u001b[0m \u001b[0mdnw\u001b[0m \u001b[1;32min\u001b[0m \u001b[0mzip\u001b[0m\u001b[1;33m(\u001b[0m\u001b[0mnabla_w\u001b[0m\u001b[1;33m,\u001b[0m \u001b[0mdelta_nabla_w\u001b[0m\u001b[1;33m)\u001b[0m\u001b[1;33m]\u001b[0m\u001b[1;33m\u001b[0m\u001b[0m\n\u001b[0;32m    228\u001b[0m \u001b[1;33m\u001b[0m\u001b[0m\n",
      "\u001b[1;31mKeyboardInterrupt\u001b[0m: "
     ]
    }
   ],
   "source": [
    "net2 = new_approach.Network([784, 30, 10], cost=new_approach.CrossEntropyCost)\n",
    "# net.large_weight_initializer()\n",
    "\n",
    "t1 = time.time()\n",
    "eval_cost2, eval_acc2, train_cost2, train_acc2 = \\\n",
    "net2.SGD(training_data, 30, 10, 0.5, dropout=True, lmbda = 5.0, \n",
    "evaluation_data=test_data, monitor_evaluation_cost=False, monitor_evaluation_accuracy=True,\n",
    "monitor_training_cost=False, monitor_training_accuracy=True)\n",
    "print time.time() - t1\n"
   ]
  },
  {
   "cell_type": "code",
   "execution_count": 8,
   "metadata": {
    "collapsed": false
   },
   "outputs": [],
   "source": [
    "import matplotlib.pyplot as plt\n",
    "plt.plot(range(30), eval_acc1, \"b\", label=\"no dropout (1277 sec)\")\n",
    "plt.plot(range(30), eval_acc2, \"r\", label=\"random dropout (1240 sec)\")\n",
    "plt.title(\"Dropout effect on test accuracy (train size=50000, test size=10000, epoch=30)\")\n",
    "plt.xlabel(\"epoch\")\n",
    "plt.ylabel(\"test accuracy\")\n",
    "plt.legend(loc=4)\n",
    "plt.show()"
   ]
  },
  {
   "cell_type": "code",
   "execution_count": 48,
   "metadata": {
    "collapsed": false
   },
   "outputs": [
    {
     "data": {
      "text/plain": [
       "19"
      ]
     },
     "execution_count": 48,
     "metadata": {},
     "output_type": "execute_result"
    }
   ],
   "source": [
    "len(np.where(net1.dropVector[0] == 1)[0])"
   ]
  },
  {
   "cell_type": "code",
   "execution_count": 46,
   "metadata": {
    "collapsed": false
   },
   "outputs": [
    {
     "data": {
      "text/plain": [
       "[array([1, 1, 1, 1, 1, 1, 0, 1, 1, 0, 1, 1, 0, 1, 1, 0, 1, 0, 1, 0, 0, 1, 0,\n",
       "        0, 1, 0, 0, 1, 1, 1])]"
      ]
     },
     "execution_count": 46,
     "metadata": {},
     "output_type": "execute_result"
    }
   ],
   "source": [
    "net1.dropVector"
   ]
  },
  {
   "cell_type": "code",
   "execution_count": 15,
   "metadata": {
    "collapsed": false
   },
   "outputs": [
    {
     "data": {
      "text/plain": [
       "[array([1, 0, 1, 1, 0, 0, 0, 0, 1, 1, 0, 1, 0, 1, 0, 0, 0, 0, 0, 0, 0, 0, 0,\n",
       "        1, 0, 1, 0, 0, 1, 0])]"
      ]
     },
     "execution_count": 15,
     "metadata": {},
     "output_type": "execute_result"
    }
   ],
   "source": [
    "net2.dropVector"
   ]
  },
  {
   "cell_type": "code",
   "execution_count": 20,
   "metadata": {
    "collapsed": false
   },
   "outputs": [
    {
     "data": {
      "text/plain": [
       "3.0"
      ]
     },
     "execution_count": 20,
     "metadata": {},
     "output_type": "execute_result"
    }
   ],
   "source": [
    "float(len(net2.dropVector[0])) / len(np.where(net2.dropVector[0] == 1)[0])"
   ]
  },
  {
   "cell_type": "code",
   "execution_count": 21,
   "metadata": {
    "collapsed": false
   },
   "outputs": [
    {
     "data": {
      "text/plain": [
       "10"
      ]
     },
     "execution_count": 21,
     "metadata": {},
     "output_type": "execute_result"
    }
   ],
   "source": [
    "len(np.where(net2.dropVector[0] == 1)[0])"
   ]
  },
  {
   "cell_type": "code",
   "execution_count": 1,
   "metadata": {
    "collapsed": false
   },
   "outputs": [
    {
     "name": "stdout",
     "output_type": "stream",
     "text": [
      "Interactive namespace is empty.\n"
     ]
    }
   ],
   "source": [
    "whos"
   ]
  },
  {
   "cell_type": "code",
   "execution_count": 9,
   "metadata": {
    "collapsed": false
   },
   "outputs": [],
   "source": [
    "netTest = new_approach.Network([784, 30, 10], cost=new_approach.CrossEntropyCost)"
   ]
  },
  {
   "cell_type": "code",
   "execution_count": 12,
   "metadata": {
    "collapsed": false
   },
   "outputs": [],
   "source": [
    "for hiddenLayerSize in netTest.sizes[1:-1]:\n",
    "    netTest.dropVector = [np.random.randint(2, size=hiddenLayerSize)]"
   ]
  },
  {
   "cell_type": "code",
   "execution_count": 13,
   "metadata": {
    "collapsed": false
   },
   "outputs": [
    {
     "data": {
      "text/plain": [
       "[array([0, 1, 1, 0, 0, 0, 0, 1, 1, 0, 0, 0, 0, 1, 0, 1, 1, 1, 0, 0, 0, 0, 0,\n",
       "        0, 0, 1, 1, 1, 1, 1])]"
      ]
     },
     "execution_count": 13,
     "metadata": {},
     "output_type": "execute_result"
    }
   ],
   "source": [
    "netTest.dropVector"
   ]
  },
  {
   "cell_type": "code",
   "execution_count": 21,
   "metadata": {
    "collapsed": false
   },
   "outputs": [
    {
     "data": {
      "text/plain": [
       "2"
      ]
     },
     "execution_count": 21,
     "metadata": {},
     "output_type": "execute_result"
    }
   ],
   "source": [
    "len(netTest.weights)"
   ]
  },
  {
   "cell_type": "code",
   "execution_count": 31,
   "metadata": {
    "collapsed": false
   },
   "outputs": [],
   "source": [
    "x = np.random.rand(784, 1)"
   ]
  },
  {
   "cell_type": "code",
   "execution_count": 33,
   "metadata": {
    "collapsed": false
   },
   "outputs": [
    {
     "data": {
      "text/plain": [
       "(784, 1)"
      ]
     },
     "execution_count": 33,
     "metadata": {},
     "output_type": "execute_result"
    }
   ],
   "source": [
    "x.shape"
   ]
  },
  {
   "cell_type": "code",
   "execution_count": 88,
   "metadata": {
    "collapsed": true
   },
   "outputs": [],
   "source": [
    "zs = []\n",
    "activations =[]\n",
    "def sigmoid(z):\n",
    "    '''\n",
    "    The sigmoid function.\n",
    "    '''\n",
    "    return 1.0 / (1.0 + np.exp(-z))\n",
    "\n",
    "sigmoid_vec = np.vectorize(sigmoid)"
   ]
  },
  {
   "cell_type": "code",
   "execution_count": 89,
   "metadata": {
    "collapsed": false,
    "scrolled": true
   },
   "outputs": [
    {
     "name": "stdout",
     "output_type": "stream",
     "text": [
      "[array([0, 1, 1, 0, 0, 0, 0, 1, 1, 0, 0, 0, 0, 1, 0, 1, 1, 1, 0, 0, 0, 0, 0,\n",
      "       0, 0, 1, 1, 1, 1, 1])]\n",
      "[[-1.54967161]\n",
      " [ 2.49850023]\n",
      " [-0.67236347]\n",
      " [-0.06461447]\n",
      " [ 0.42436382]\n",
      " [-2.8327241 ]\n",
      " [-0.92861658]\n",
      " [-0.45368473]\n",
      " [-0.19608731]\n",
      " [-0.0541801 ]\n",
      " [-0.59036331]\n",
      " [ 0.64799512]\n",
      " [-0.61443128]\n",
      " [ 0.68599589]\n",
      " [-1.21803673]\n",
      " [-1.89318599]\n",
      " [-1.11393011]\n",
      " [-1.19904341]\n",
      " [ 1.07323665]\n",
      " [-0.11962476]\n",
      " [ 0.72488075]\n",
      " [-0.48293636]\n",
      " [ 0.66770516]\n",
      " [-0.68003962]\n",
      " [ 0.79385095]\n",
      " [ 1.30368163]\n",
      " [ 1.82917159]\n",
      " [ 1.37776351]\n",
      " [ 0.51228415]\n",
      " [ 0.57432821]]\n",
      "[[-0.        ]\n",
      " [ 2.49850023]\n",
      " [-0.67236347]\n",
      " [-0.        ]\n",
      " [ 0.        ]\n",
      " [-0.        ]\n",
      " [-0.        ]\n",
      " [-0.45368473]\n",
      " [-0.19608731]\n",
      " [-0.        ]\n",
      " [-0.        ]\n",
      " [ 0.        ]\n",
      " [-0.        ]\n",
      " [ 0.68599589]\n",
      " [-0.        ]\n",
      " [-1.89318599]\n",
      " [-1.11393011]\n",
      " [-1.19904341]\n",
      " [ 0.        ]\n",
      " [-0.        ]\n",
      " [ 0.        ]\n",
      " [-0.        ]\n",
      " [ 0.        ]\n",
      " [-0.        ]\n",
      " [ 0.        ]\n",
      " [ 1.30368163]\n",
      " [ 1.82917159]\n",
      " [ 1.37776351]\n",
      " [ 0.51228415]\n",
      " [ 0.57432821]]\n",
      "[[ 0.5       ]\n",
      " [ 0.92403661]\n",
      " [ 0.33796782]\n",
      " [ 0.5       ]\n",
      " [ 0.5       ]\n",
      " [ 0.5       ]\n",
      " [ 0.5       ]\n",
      " [ 0.38848505]\n",
      " [ 0.45113465]\n",
      " [ 0.5       ]\n",
      " [ 0.5       ]\n",
      " [ 0.5       ]\n",
      " [ 0.5       ]\n",
      " [ 0.6650756 ]\n",
      " [ 0.5       ]\n",
      " [ 0.13088163]\n",
      " [ 0.24713892]\n",
      " [ 0.23164543]\n",
      " [ 0.5       ]\n",
      " [ 0.5       ]\n",
      " [ 0.5       ]\n",
      " [ 0.5       ]\n",
      " [ 0.5       ]\n",
      " [ 0.5       ]\n",
      " [ 0.5       ]\n",
      " [ 0.78645394]\n",
      " [ 0.86166301]\n",
      " [ 0.79863157]\n",
      " [ 0.62534178]\n",
      " [ 0.63976129]]\n",
      "[[ 0.        ]\n",
      " [ 2.13239218]\n",
      " [ 0.77992575]\n",
      " [ 0.        ]\n",
      " [ 0.        ]\n",
      " [ 0.        ]\n",
      " [ 0.        ]\n",
      " [ 0.89650395]\n",
      " [ 1.04107995]\n",
      " [ 0.        ]\n",
      " [ 0.        ]\n",
      " [ 0.        ]\n",
      " [ 0.        ]\n",
      " [ 1.53478985]\n",
      " [ 0.        ]\n",
      " [ 0.30203453]\n",
      " [ 0.57032059]\n",
      " [ 0.53456638]\n",
      " [ 0.        ]\n",
      " [ 0.        ]\n",
      " [ 0.        ]\n",
      " [ 0.        ]\n",
      " [ 0.        ]\n",
      " [ 0.        ]\n",
      " [ 0.        ]\n",
      " [ 1.81489371]\n",
      " [ 1.9884531 ]\n",
      " [ 1.84299593]\n",
      " [ 1.44309641]\n",
      " [ 1.4763722 ]]\n",
      "[[-0.49337526]\n",
      " [ 0.35032496]\n",
      " [ 1.80400415]\n",
      " [ 0.7555112 ]\n",
      " [-0.16172008]\n",
      " [ 1.21905446]\n",
      " [-0.68387432]\n",
      " [-0.49778988]\n",
      " [ 1.29444737]\n",
      " [ 3.49308575]]\n",
      "[[-0.49337526]\n",
      " [ 0.35032496]\n",
      " [ 1.80400415]\n",
      " [ 0.7555112 ]\n",
      " [-0.16172008]\n",
      " [ 1.21905446]\n",
      " [-0.68387432]\n",
      " [-0.49778988]\n",
      " [ 1.29444737]\n",
      " [ 3.49308575]]\n",
      "[[ 0.37909877]\n",
      " [ 0.58669638]\n",
      " [ 0.85863566]\n",
      " [ 0.68037838]\n",
      " [ 0.45965787]\n",
      " [ 0.77189711]\n",
      " [ 0.33539714]\n",
      " [ 0.3780602 ]\n",
      " [ 0.784899  ]\n",
      " [ 0.9704904 ]]\n",
      "[[ 0.37909877]\n",
      " [ 0.58669638]\n",
      " [ 0.85863566]\n",
      " [ 0.68037838]\n",
      " [ 0.45965787]\n",
      " [ 0.77189711]\n",
      " [ 0.33539714]\n",
      " [ 0.3780602 ]\n",
      " [ 0.784899  ]\n",
      " [ 0.9704904 ]]\n"
     ]
    }
   ],
   "source": [
    "activation = x\n",
    "print netTest.dropVector\n",
    "for b, w in zip(netTest.biases, netTest.weights):\n",
    "    z = np.dot(w, activation) + b\n",
    "    print z\n",
    "    if len(b) != netTest.sizes[-1]: # if dropout\n",
    "        z = np.multiply(netTest.dropVector, z.transpose()).reshape(-1, 1)\n",
    "    print z\n",
    "    zs.append(z)\n",
    "    activation = sigmoid_vec(z)\n",
    "    print activation\n",
    "    if len(b) != netTest.sizes[-1]: # if dropout\n",
    "        activation = np.multiply(netTest.dropVector, activation.transpose()).reshape(-1, 1)\n",
    "        activation *= float(len(netTest.dropVector[0])) / len(np.where(netTest.dropVector[0] == 1)[0])\n",
    "    print activation\n",
    "    activations.append(activation)"
   ]
  },
  {
   "cell_type": "code",
   "execution_count": 84,
   "metadata": {
    "collapsed": false
   },
   "outputs": [
    {
     "name": "stdout",
     "output_type": "stream",
     "text": [
      "30 30\n"
     ]
    }
   ],
   "source": [
    "for b, w in zip(netTest.biases, netTest.weights):\n",
    "    if len(b) != netTest.sizes[-1]:\n",
    "        print len(b), len(w)"
   ]
  },
  {
   "cell_type": "code",
   "execution_count": 81,
   "metadata": {
    "collapsed": false,
    "scrolled": true
   },
   "outputs": [
    {
     "name": "stdout",
     "output_type": "stream",
     "text": [
      "[array([[ 0.        ],\n",
      "       [ 0.92403661],\n",
      "       [ 0.33796782],\n",
      "       [ 0.        ],\n",
      "       [ 0.        ],\n",
      "       [ 0.        ],\n",
      "       [ 0.        ],\n",
      "       [ 0.38848505],\n",
      "       [ 0.45113465],\n",
      "       [ 0.        ],\n",
      "       [ 0.        ],\n",
      "       [ 0.        ],\n",
      "       [ 0.        ],\n",
      "       [ 0.6650756 ],\n",
      "       [ 0.        ],\n",
      "       [ 0.13088163],\n",
      "       [ 0.24713892],\n",
      "       [ 0.23164543],\n",
      "       [ 0.        ],\n",
      "       [ 0.        ],\n",
      "       [ 0.        ],\n",
      "       [ 0.        ],\n",
      "       [ 0.        ],\n",
      "       [ 0.        ],\n",
      "       [ 0.        ],\n",
      "       [ 0.78645394],\n",
      "       [ 0.86166301],\n",
      "       [ 0.79863157],\n",
      "       [ 0.62534178],\n",
      "       [ 0.63976129]]), array([[ 0.5963199 ],\n",
      "       [ 0.53761023],\n",
      "       [ 0.76037244],\n",
      "       [ 0.61659578],\n",
      "       [ 0.52088949],\n",
      "       [ 0.81541458],\n",
      "       [ 0.33889126],\n",
      "       [ 0.49079525],\n",
      "       [ 0.76318399],\n",
      "       [ 0.93390915]])]\n",
      "[array([[ 0.        ],\n",
      "       [ 2.13239218],\n",
      "       [ 0.77992575],\n",
      "       [ 0.        ],\n",
      "       [ 0.        ],\n",
      "       [ 0.        ],\n",
      "       [ 0.        ],\n",
      "       [ 0.89650395],\n",
      "       [ 1.04107995],\n",
      "       [ 0.        ],\n",
      "       [ 0.        ],\n",
      "       [ 0.        ],\n",
      "       [ 0.        ],\n",
      "       [ 1.53478985],\n",
      "       [ 0.        ],\n",
      "       [ 0.30203453],\n",
      "       [ 0.57032059],\n",
      "       [ 0.53456638],\n",
      "       [ 0.        ],\n",
      "       [ 0.        ],\n",
      "       [ 0.        ],\n",
      "       [ 0.        ],\n",
      "       [ 0.        ],\n",
      "       [ 0.        ],\n",
      "       [ 0.        ],\n",
      "       [ 1.81489371],\n",
      "       [ 1.9884531 ],\n",
      "       [ 1.84299593],\n",
      "       [ 1.44309641],\n",
      "       [ 1.4763722 ]]), array([[ 0.5963199 ],\n",
      "       [ 0.53761023],\n",
      "       [ 0.76037244],\n",
      "       [ 0.61659578],\n",
      "       [ 0.52088949],\n",
      "       [ 0.81541458],\n",
      "       [ 0.33889126],\n",
      "       [ 0.49079525],\n",
      "       [ 0.76318399],\n",
      "       [ 0.93390915]])]\n"
     ]
    }
   ],
   "source": [
    "for index, hiddenLayerSize in enumerate(netTest.sizes[1:-1]):\n",
    "    activations[index] = np.multiply(netTest.dropVector, activations[index].transpose()).reshape(-1, 1)\n",
    "#     print activations\n",
    "#     activations[index] = np.array(activations[index]) * \\\n",
    "#                          float(len(netTest.dropVector[0])) / len(np.where(netTest.dropVector[0] == 1)[0])\n",
    "#     print activations"
   ]
  },
  {
   "cell_type": "code",
   "execution_count": 70,
   "metadata": {
    "collapsed": false
   },
   "outputs": [
    {
     "data": {
      "text/plain": [
       "2.3076923076923075"
      ]
     },
     "execution_count": 70,
     "metadata": {},
     "output_type": "execute_result"
    }
   ],
   "source": [
    "float(len(netTest.dropVector[0])) / len(np.where(netTest.dropVector[0] == 1)[0])"
   ]
  },
  {
   "cell_type": "code",
   "execution_count": 71,
   "metadata": {
    "collapsed": false
   },
   "outputs": [
    {
     "data": {
      "text/plain": [
       "[array([0, 1, 1, 0, 0, 0, 0, 1, 1, 0, 0, 0, 0, 1, 0, 1, 1, 1, 0, 0, 0, 0, 0,\n",
       "        0, 0, 1, 1, 1, 1, 1])]"
      ]
     },
     "execution_count": 71,
     "metadata": {},
     "output_type": "execute_result"
    }
   ],
   "source": [
    "netTest.dropVector"
   ]
  },
  {
   "cell_type": "code",
   "execution_count": 72,
   "metadata": {
    "collapsed": false
   },
   "outputs": [
    {
     "data": {
      "text/plain": [
       "2.3076923076923075"
      ]
     },
     "execution_count": 72,
     "metadata": {},
     "output_type": "execute_result"
    }
   ],
   "source": [
    "30 / 13."
   ]
  }
 ],
 "metadata": {
  "kernelspec": {
   "display_name": "Python 2",
   "language": "python",
   "name": "python2"
  },
  "language_info": {
   "codemirror_mode": {
    "name": "ipython",
    "version": 2
   },
   "file_extension": ".py",
   "mimetype": "text/x-python",
   "name": "python",
   "nbconvert_exporter": "python",
   "pygments_lexer": "ipython2",
   "version": "2.7.9"
  }
 },
 "nbformat": 4,
 "nbformat_minor": 0
}
